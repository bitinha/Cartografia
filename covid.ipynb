{
 "cells": [
  {
   "cell_type": "code",
   "execution_count": null,
   "metadata": {},
   "outputs": [],
   "source": [
    "import os\n",
    "import sys\n",
    "from osgeo import ogr\n",
    "os.environ['QT_QPA_PLATFORM'] = 'offscreen'\n",
    "#sys.path.insert(0,'/usr/local/share/qgis/python')\n",
    "#sys.path = ['C:/PROGRA~1/QGIS3~1.10/apps/qgis-ltr/./python', 'C:/Users/vitor/AppData/Roaming/QGIS/QGIS3\\\\profiles\\\\default/python', 'C:/Users/vitor/AppData/Roaming/QGIS/QGIS3\\\\profiles\\\\default/python/plugins', 'C:/PROGRA~1/QGIS3~1.10/apps/qgis-ltr/./python/plugins', 'C:\\\\PROGRA~1\\\\QGIS3~1.10\\\\apps\\\\Python37', 'C:\\\\PROGRA~1\\\\QGIS3~1.10\\\\apps\\\\Python37\\\\Scripts', 'C:\\\\Program Files\\\\QGIS 3.10\\\\bin\\\\python37.zip', 'C:\\\\PROGRA~1\\\\QGIS3~1.10\\\\apps\\\\Python37\\\\DLLs', 'C:\\\\PROGRA~1\\\\QGIS3~1.10\\\\apps\\\\Python37\\\\lib', 'C:\\\\Program Files\\\\QGIS 3.10\\\\bin', 'C:\\\\Users\\\\vitor\\\\AppData\\\\Roaming\\\\Python\\\\Python37\\\\site-packages', 'C:\\\\PROGRA~1\\\\QGIS3~1.10\\\\apps\\\\Python37\\\\lib\\\\site-packages', 'C:\\\\PROGRA~1\\\\QGIS3~1.10\\\\apps\\\\Python37\\\\lib\\\\site-packages\\\\win32', 'C:\\\\PROGRA~1\\\\QGIS3~1.10\\\\apps\\\\Python37\\\\lib\\\\site-packages\\\\win32\\\\lib', 'C:\\\\PROGRA~1\\\\QGIS3~1.10\\\\apps\\\\Python37\\\\lib\\\\site-packages\\\\Pythonwin', 'C:/Users/vitor/AppData/Roaming/QGIS/QGIS3\\\\profiles\\\\default/python', '.']\n",
    "#os.environ['PATH'] = 'C:\\\\PROGRA~1\\\\QGIS3~1.10\\\\apps\\\\qgis-ltr\\\\bin;C:\\\\PROGRA~1\\\\QGIS3~1.10\\\\apps\\\\Python37;C:\\\\PROGRA~1\\\\QGIS3~1.10\\\\apps\\\\Python37\\\\Scripts;C:\\\\PROGRA~1\\\\QGIS3~1.10\\\\apps\\\\qt5\\\\bin;C:\\\\PROGRA~1\\\\QGIS3~1.10\\\\bin;C:\\\\Windows\\\\system32;C:\\\\Windows;C:\\\\Windows\\\\system32\\\\WBem;C:\\\\PROGRA~1\\\\QGIS3~1.10\\\\apps\\\\Python37\\\\lib\\\\site-packages\\\\pywin32_system32;C:\\\\PROGRA~1\\\\QGIS3~1.10\\\\apps\\\\Python37\\\\lib\\\\site-packages\\\\numpy\\\\.libs'\n",
    "\n",
    "from qgis.core import *\n",
    "#QgsApplication.setPrefixPath(\"/usr/local\", True) \n",
    "from qgis.gui import *\n",
    "from qgis import processing\n",
    "import qgis.utils\n",
    "from qgis.PyQt.QtGui import QColor, QImage\n",
    "from qgis.PyQt.QtCore import QSize, QBuffer, QIODevice, QVariant\n",
    "\n",
    "#QgsApplication.setPrefixPath(r'C:/PROGRA~1/QGIS3~1.10\\apps\\qgis', True)\n",
    "qgs = QgsApplication([], False)\n",
    "qgs.initQgis()\n",
    "print(QgsApplication.showSettings())\n",
    "\n",
    "sys.path.append(r'C:/PROGRA~1/QGIS3~1.10\\apps\\qgis-ltr\\python\\plugins')\n"
   ]
  },
  {
   "cell_type": "code",
   "execution_count": null,
   "metadata": {},
   "outputs": [],
   "source": [
    "covid_gpkg = r\"C:\\Users\\vitor\\Documents\\MIEI\\Tecnologias e Aplicações\\cartografia\\covid-pt-2020-04-20.gpkg\"\n",
    "conn = ogr.Open(covid_gpkg)\n",
    "for i in conn:\n",
    "    vlayer = QgsVectorLayer(\"{}|layername={}\".format(covid_gpkg, i.GetName()), i.GetName(), \"ogr\")\n",
    "    if not vlayer.isValid():\n",
    "        print(\"Layer {} failed to load\".format(i.GetName()))\n",
    "    else:\n",
    "        QgsProject.instance().addMapLayer(vlayer)\n",
    "        print(\"Layer {} loaded\".format(i.GetName()))\n",
    "concelho = QgsProject.instance().mapLayersByName('concelho')[0]"
   ]
  },
  {
   "cell_type": "code",
   "execution_count": null,
   "metadata": {},
   "outputs": [],
   "source": [
    "xt = concelho.extent()\n",
    "# print(xt)\n",
    "width  = 400\n",
    "height = int(width*xt.height()/xt.width())\n",
    "print(\"Gerar mapa com {} por {}\".format(width, height))\n",
    "\n",
    "options = QgsMapSettings()\n",
    "\n",
    "options.setLayers([concelho])\n",
    "options.setBackgroundColor(QColor(255, 255, 255))\n",
    "options.setOutputSize(QSize(width, height))\n",
    "options.setExtent(xt)\n",
    "''''''        \n",
    "render = QgsMapRendererParallelJob(options)\n",
    "render.start()\n",
    "render.waitForFinished()\n",
    "\n",
    "image = render.renderedImage()\n"
   ]
  },
  {
   "cell_type": "code",
   "execution_count": null,
   "metadata": {},
   "outputs": [],
   "source": [
    "from IPython.display import Image\n",
    "imgbuf= QBuffer()\n",
    "imgbuf.open( QIODevice.ReadWrite )\n",
    "image.save( imgbuf,\"PNG\" )\n",
    "Image( imgbuf.data() )"
   ]
  },
  {
   "cell_type": "code",
   "execution_count": null,
   "metadata": {},
   "outputs": [],
   "source": []
  },
  {
   "cell_type": "code",
   "execution_count": null,
   "metadata": {},
   "outputs": [],
   "source": [
    "uri = \"file:///C:/query.csv?encoding=%s&delimiter=%s&xField=%s&yField=%s&crs=%s\" % (\"UTF-8\",\",\", \"longitude\", \"latitude\",\"epsg:4326\")\n",
    "print(uri)\n",
    "#Make a vector layer\n",
    "eq_layer=QgsVectorLayer(uri,\"eq-data\",\"delimitedtext\")\n",
    "\n",
    "#Check if layer is valid\n",
    "if not eq_layer.isValid():\n",
    "    print (\"Layer not loaded\")\n"
   ]
  },
  {
   "cell_type": "code",
   "execution_count": null,
   "metadata": {},
   "outputs": [],
   "source": [
    "uri = r\"file:///time_series_covid19_confirmed_global.csv?delimiter=,&xField=Long&yField=Lat\"\n",
    "print(uri)\n",
    "confirmed = QgsVectorLayer(uri, \"confirmed\", \"delimitedtext\")\n",
    "if not confirmed.isValid():\n",
    "    print(\"Layer failed to load!\")\n",
    "uri = r\"file:///time_series_covid19_deaths_global.csv?delimiter=,&xField=Long&yField=Lat\"\n",
    "print(uri)\n",
    "deaths = QgsVectorLayer(uri, \"deaths\", \"delimitedtext\")\n",
    "if not confirmed.isValid():\n",
    "    print(\"Layer failed to load!\")\n",
    "uri = r\"file:///time_series_covid19_recovered_global.csv?delimiter=,&xField=Long&yField=Lat\"\n",
    "print(uri)\n",
    "recovered = QgsVectorLayer(uri, \"recovered\", \"delimitedtext\")\n",
    "if not confirmed.isValid():\n",
    "    print(\"Layer failed to load!\")"
   ]
  },
  {
   "cell_type": "code",
   "execution_count": null,
   "metadata": {},
   "outputs": [],
   "source": [
    "countries = r\"C:/Users/vitor/Documents/MIEI/Tecnologias e Aplicações/cartografia/ne_10m_admin_0_countries.shp\"\n",
    "countries = QgsVectorLayer(countries, \"countries\", \"ogr\")\n",
    "if not countries.isValid():\n",
    "    print(\"Layer failed to load!\")"
   ]
  },
  {
   "cell_type": "code",
   "execution_count": null,
   "metadata": {},
   "outputs": [],
   "source": [
    "import pandas as pd\n",
    "df = pd.read_csv(\"https://raw.githubusercontent.com/CSSEGISandData/COVID-19/master/csse_covid_19_data/csse_covid_19_time_series/time_series_covid19_confirmed_global.csv\")\n",
    "df.head()"
   ]
  },
  {
   "cell_type": "code",
   "execution_count": null,
   "metadata": {},
   "outputs": [],
   "source": [
    "xt = countries.extent()\n",
    "# print(xt)\n",
    "width  = 1200\n",
    "height = int(width*xt.height()/xt.width())\n",
    "print(\"Gerar mapa com {} por {}\".format(width, height))\n",
    "\n",
    "options = QgsMapSettings()\n",
    "\n",
    "options.setLayers([res['OUTPUT']])\n",
    "options.setBackgroundColor(QColor(255, 255, 255))\n",
    "options.setOutputSize(QSize(width, height))\n",
    "options.setExtent(xt)\n",
    "''''''        \n",
    "render = QgsMapRendererParallelJob(options)\n",
    "render.start()\n",
    "render.waitForFinished()\n",
    "\n",
    "image = render.renderedImage()\n"
   ]
  },
  {
   "cell_type": "code",
   "execution_count": null,
   "metadata": {},
   "outputs": [],
   "source": [
    "from IPython.display import Image\n",
    "imgbuf= QBuffer()\n",
    "imgbuf.open( QIODevice.ReadWrite )\n",
    "image.save( imgbuf,\"PNG\" )\n",
    "Image( imgbuf.data() )"
   ]
  },
  {
   "cell_type": "code",
   "execution_count": null,
   "metadata": {},
   "outputs": [],
   "source": []
  },
  {
   "cell_type": "code",
   "execution_count": null,
   "metadata": {},
   "outputs": [],
   "source": []
  },
  {
   "cell_type": "code",
   "execution_count": null,
   "metadata": {},
   "outputs": [],
   "source": []
  },
  {
   "cell_type": "code",
   "execution_count": null,
   "metadata": {},
   "outputs": [],
   "source": [
    "from qgis.core import *\n",
    "from qgis import *\n",
    " \n",
    "Input_Table = r'C:/query.csv' # set the filepath for the input CSV\n",
    "lon_field = 'longitude' # set the name for the field containing the longitude\n",
    "lat_field = 'latitude' # set the name for the field containing the latitude\n",
    "crs = 4326 # set the crs as needed\n",
    "Output_Layer = 'output.shp' # set the filepath for the output shapefile\n",
    " \n",
    "spatRef = QgsCoordinateReferenceSystem(crs, QgsCoordinateReferenceSystem.EpsgCrsId)\n",
    " \n",
    "inp_tab = QgsVectorLayer(Input_Table, 'Input_Table', 'ogr')\n",
    "prov = inp_tab.dataProvider()\n",
    "fields = inp_tab.pendingFields()\n",
    "outLayer = QgsVectorFileWriter(Output_Layer, None, fields, QGis.WKBPoint, spatRef)\n",
    " \n",
    "pt = QgsPoint()\n",
    "outFeature = QgsFeature()\n",
    " \n",
    "for feat in inp_tab.getFeatures():\n",
    "    attrs = feat.attributes()\n",
    "    pt.setX(float(feat[lon_field]))\n",
    "    pt.setY(float(feat[lat_field]))\n",
    "    outFeature.setAttributes(attrs)\n",
    "    outFeature.setGeometry(QgsGeometry.fromPoint(pt))\n",
    "    outLayer.addFeature(outFeature)\n",
    "del outLayer"
   ]
  },
  {
   "cell_type": "code",
   "execution_count": null,
   "metadata": {},
   "outputs": [],
   "source": [
    "QgsProject().instance().addMapLayers([confirmed,countries])\n",
    "\n"
   ]
  },
  {
   "cell_type": "code",
   "execution_count": null,
   "metadata": {},
   "outputs": [],
   "source": [
    "lien = QgsVectorLayerJoinInfo()\n",
    "lien.setTargetFieldName('NAME')\n",
    "lien.setJoinFieldName(r'Country/Region')\n",
    "lien.setJoinLayerId(confirmed.id())\n",
    "lien.setUsingMemoryCache(True)\n",
    "lien.setJoinLayer(confirmed)\n",
    "countries.addJoin(lien)"
   ]
  },
  {
   "cell_type": "code",
   "execution_count": null,
   "metadata": {},
   "outputs": [],
   "source": [
    "\n",
    "for field in dale.fields():\n",
    "    print(field.name(), field.typeName())"
   ]
  },
  {
   "cell_type": "code",
   "execution_count": null,
   "metadata": {},
   "outputs": [],
   "source": [
    "graduated_renderer = QgsGraduatedSymbolRenderer()\n",
    "# Add a few categories\n",
    "graduated_renderer.addClassRange(QgsRendererRange(QgsClassificationRange('class 0-100', 0, 100), QgsMarkerSymbol()))\n",
    "graduated_renderer.addClassRange(QgsRendererRange(QgsClassificationRange('class 101-200', 101, 200), QgsMarkerSymbol()))\n",
    "\n",
    "for ran in graduated_renderer.ranges():\n",
    "    print(\"{} - {}: {} {}\".format(\n",
    "        ran.lowerValue(),\n",
    "        ran.upperValue(),\n",
    "        ran.label(),\n",
    "        ran.symbol()\n",
    "      ))"
   ]
  },
  {
   "cell_type": "code",
   "execution_count": null,
   "metadata": {},
   "outputs": [],
   "source": [
    "\n",
    "\n",
    "from qgis.PyQt import QtGui\n",
    "\n",
    "\n",
    "myTargetField = r'confirmed_4/14/20'\n",
    "myRangeList = []\n",
    "myOpacity = 1\n",
    "# Make our first symbol and range...\n",
    "myMin = 0.0\n",
    "myMax = 10000\n",
    "myLabel = 'Group 1'\n",
    "myColour = QtGui.QColor('#ffeeff')\n",
    "mySymbol1 = QgsSymbol.defaultSymbol(countries.geometryType())\n",
    "mySymbol1.setColor(myColour)\n",
    "mySymbol1.setOpacity(myOpacity)\n",
    "myRange1 = QgsRendererRange(myMin, myMax, mySymbol1, myLabel)\n",
    "myRangeList.append(myRange1)\n",
    "#now make another symbol and range...\n",
    "myMin = 10000.1\n",
    "myMax = 20000\n",
    "myLabel = 'Group 2'\n",
    "myColour = QtGui.QColor('#00eeff')\n",
    "mySymbol2 = QgsSymbol.defaultSymbol(\n",
    "     countries.geometryType())\n",
    "\n",
    "mySymbol2.setColor(myColour)\n",
    "mySymbol2.setOpacity(myOpacity)\n",
    "myRange2 = QgsRendererRange(myMin, myMax, mySymbol2, myLabel)\n",
    "myRangeList.append(myRange2)\n",
    "myRenderer = QgsGraduatedSymbolRenderer('', myRangeList)\n",
    "myClassificationMethod = QgsApplication.classificationMethodRegistry().method(\"EqualInterval\")\n",
    "myRenderer.setClassificationMethod(myClassificationMethod)\n",
    "myRenderer.setClassAttribute(myTargetField)\n",
    "\n",
    "countries.setRenderer(myRenderer)"
   ]
  },
  {
   "cell_type": "code",
   "execution_count": null,
   "metadata": {},
   "outputs": [],
   "source": [
    "for ran in myRenderer.ranges():\n",
    "    print(\"{} - {}: {} {}\".format(\n",
    "        ran.lowerValue(),\n",
    "        ran.upperValue(),\n",
    "        ran.label(),\n",
    "        ran.symbol()\n",
    "      ))"
   ]
  },
  {
   "cell_type": "code",
   "execution_count": null,
   "metadata": {},
   "outputs": [],
   "source": [
    "for i in range(0,100):\n",
    "    print(str(i)+\": \"+countries.attributeDisplayName(i))"
   ]
  },
  {
   "cell_type": "code",
   "execution_count": null,
   "metadata": {},
   "outputs": [],
   "source": [
    "countries.startEditing()\n",
    "countries.deleteAttributes(range(18,94))\n",
    "countries.commitChanges()"
   ]
  },
  {
   "cell_type": "code",
   "execution_count": null,
   "metadata": {},
   "outputs": [],
   "source": [
    "a=list()"
   ]
  },
  {
   "cell_type": "code",
   "execution_count": null,
   "metadata": {},
   "outputs": [],
   "source": [
    "a"
   ]
  },
  {
   "cell_type": "code",
   "execution_count": null,
   "metadata": {},
   "outputs": [],
   "source": [
    "tenta = QgsVectorLayer(countries)"
   ]
  },
  {
   "cell_type": "code",
   "execution_count": null,
   "metadata": {},
   "outputs": [],
   "source": []
  },
  {
   "cell_type": "code",
   "execution_count": null,
   "metadata": {},
   "outputs": [],
   "source": [
    "QgsAggregateCalculator.aggregate()"
   ]
  },
  {
   "cell_type": "code",
   "execution_count": null,
   "metadata": {},
   "outputs": [],
   "source": [
    "countries.aggregate(aggregate=1,fieldOrExpression='LEVEL')"
   ]
  },
  {
   "cell_type": "code",
   "execution_count": null,
   "metadata": {},
   "outputs": [],
   "source": [
    "help(QgsAggregateCalculator.Aggregate)"
   ]
  },
  {
   "cell_type": "code",
   "execution_count": null,
   "metadata": {},
   "outputs": [],
   "source": []
  },
  {
   "cell_type": "code",
   "execution_count": null,
   "metadata": {},
   "outputs": [],
   "source": []
  },
  {
   "cell_type": "code",
   "execution_count": null,
   "metadata": {},
   "outputs": [],
   "source": [
    "\n",
    "\n",
    "from processing.core.Processing import Processing\n",
    "Processing.initialize()\n",
    "from processing.tools import *\n",
    "\n",
    "layer1 = \"path/to/point_shapefile.shp\"\n",
    "layer2 = \"path/to/polygon_shapefile.shp\"\n",
    "result = \"path/to/output_shapefile.shp\"\n",
    "\n",
    "general.runalg(\"qgis:joinattributesbylocation\", countries, confirmed, u'intersects', 0, 0, '', 1, result)"
   ]
  },
  {
   "cell_type": "code",
   "execution_count": null,
   "metadata": {},
   "outputs": [],
   "source": [
    "processing.alglist()"
   ]
  },
  {
   "cell_type": "code",
   "execution_count": null,
   "metadata": {},
   "outputs": [],
   "source": [
    "import processing\n",
    "from qgis.analysis import QgsNativeAlgorithms\n",
    "\n",
    "from processing.core.Processing import Processing\n",
    "\n",
    "Processing.initialize()\n",
    "QgsApplication.processingRegistry().addProvider(QgsNativeAlgorithms())\n",
    "for alg in QgsApplication.processingRegistry().algorithms():\n",
    "        print(alg.id(), \"->\", alg.displayName())"
   ]
  },
  {
   "cell_type": "code",
   "execution_count": null,
   "metadata": {},
   "outputs": [],
   "source": [
    "\n"
   ]
  },
  {
   "cell_type": "code",
   "execution_count": null,
   "metadata": {},
   "outputs": [],
   "source": [
    "processing.algorithmHelp(\"saga:rasterproduct\")"
   ]
  },
  {
   "cell_type": "code",
   "execution_count": null,
   "metadata": {},
   "outputs": [],
   "source": []
  },
  {
   "cell_type": "code",
   "execution_count": null,
   "metadata": {},
   "outputs": [],
   "source": [
    "for alg in QgsApplication.processingRegistry().algorithms():\n",
    "        print(\"{}:{} --> {}\".format(alg, alg.name(), alg.displayName()))"
   ]
  },
  {
   "cell_type": "code",
   "execution_count": null,
   "metadata": {},
   "outputs": [],
   "source": [
    "field = QgsField( 'PC', QVariant.String )"
   ]
  },
  {
   "cell_type": "code",
   "execution_count": null,
   "metadata": {},
   "outputs": [],
   "source": [
    "confirmed.addExpressionField('concat(  \"Province/State\" , \"Country/Region\" )', field)\n",
    "deaths.addExpressionField('concat(  \"Province/State\" , \"Country/Region\" )', field)\n",
    "recovered.addExpressionField('concat(  \"Province/State\" , \"Country/Region\" )', field)"
   ]
  },
  {
   "cell_type": "code",
   "execution_count": null,
   "metadata": {},
   "outputs": [],
   "source": []
  },
  {
   "cell_type": "code",
   "execution_count": null,
   "metadata": {},
   "outputs": [],
   "source": [
    "help(QgsApplication.processingRegistry().addProvider)"
   ]
  },
  {
   "cell_type": "code",
   "execution_count": null,
   "metadata": {},
   "outputs": [],
   "source": [
    "processing.algorithmHelp(\"qgis:joinattributestable\")"
   ]
  },
  {
   "cell_type": "code",
   "execution_count": null,
   "metadata": {},
   "outputs": [],
   "source": [
    "params = { \n",
    "    'INPUT' : confirmed,\n",
    "    'FIELD' : 'PC',\n",
    "    'INPUT_2' : deaths, \n",
    "    'FIELD_2' : 'PC',\n",
    "    'FIELDS_TO_COPY' : '',\n",
    "    'METHOD' : 0,\n",
    "    'DISCARD_NONMATCHING' : False,\n",
    "    'PREFIX' : 'deaths_',\n",
    "    'NON_MATCHING' : 'memory:',\n",
    "    'OUTPUT' : 'memory:'\n",
    "}"
   ]
  },
  {
   "cell_type": "code",
   "execution_count": null,
   "metadata": {},
   "outputs": [],
   "source": [
    "feedback = QgsProcessingFeedback()\n",
    "\n",
    "res = processing.run(\"qgis:joinattributestable\", params,feedback=feedback)\n"
   ]
  },
  {
   "cell_type": "code",
   "execution_count": null,
   "metadata": {},
   "outputs": [],
   "source": [
    "params = { \n",
    "    'INPUT' : res['OUTPUT'],\n",
    "    'FIELD' : 'PC',\n",
    "    'INPUT_2' : recovered, \n",
    "    'FIELD_2' : 'PC',\n",
    "    'FIELDS_TO_COPY' : '',\n",
    "    'METHOD' : 0,\n",
    "    'DISCARD_NONMATCHING' : False,\n",
    "    'PREFIX' : 'recovered_',\n",
    "    'NON_MATCHING' : 'memory:',\n",
    "    'OUTPUT' : 'memory:'\n",
    "}"
   ]
  },
  {
   "cell_type": "code",
   "execution_count": null,
   "metadata": {},
   "outputs": [],
   "source": [
    "feedback = QgsProcessingFeedback()\n",
    "\n",
    "res = processing.run(\"qgis:joinattributestable\", params,feedback=feedback)\n"
   ]
  },
  {
   "cell_type": "code",
   "execution_count": null,
   "metadata": {},
   "outputs": [],
   "source": [
    "dale = res['OUTPUT']"
   ]
  },
  {
   "cell_type": "code",
   "execution_count": null,
   "metadata": {},
   "outputs": [],
   "source": []
  },
  {
   "cell_type": "code",
   "execution_count": null,
   "metadata": {},
   "outputs": [],
   "source": []
  },
  {
   "cell_type": "code",
   "execution_count": null,
   "metadata": {
    "scrolled": false
   },
   "outputs": [],
   "source": [
    "processing.algorithmHelp(\"qgis:joinbynearest\")"
   ]
  },
  {
   "cell_type": "code",
   "execution_count": null,
   "metadata": {},
   "outputs": [],
   "source": [
    "params = { \n",
    "    'INPUT' : countries,\n",
    "    'INPUT_2' : confirmed, \n",
    "    'FIELDS_TO_COPY' : '',\n",
    "    'DISCARD_NONMATCHING' : False,\n",
    "    'PREFIX' : 'confirmed_',\n",
    "    'NEIGHBORS' : 1,\n",
    "    'MAX_DISTANCE' : 99999999,\n",
    "    'OUTPUT' : 'memory:'\n",
    "}"
   ]
  },
  {
   "cell_type": "code",
   "execution_count": null,
   "metadata": {},
   "outputs": [],
   "source": [
    "feedback = QgsProcessingFeedback()\n",
    "\n",
    "res = processing.run('qgis:joinbynearest', params,feedback=feedback)"
   ]
  },
  {
   "cell_type": "code",
   "execution_count": null,
   "metadata": {},
   "outputs": [],
   "source": [
    "vamos = res['OUTPUT']"
   ]
  },
  {
   "cell_type": "code",
   "execution_count": null,
   "metadata": {},
   "outputs": [],
   "source": [
    "res\n"
   ]
  },
  {
   "cell_type": "code",
   "execution_count": null,
   "metadata": {},
   "outputs": [],
   "source": [
    "vamos = res['OUTPUT']\n",
    "camos = QgsVectorLayer(countries, \"countries\", \"ogr\")\n",
    "if not countries.isValid():\n",
    "    print(\"Layer failed to load!\")"
   ]
  },
  {
   "cell_type": "code",
   "execution_count": null,
   "metadata": {},
   "outputs": [],
   "source": []
  },
  {
   "cell_type": "code",
   "execution_count": null,
   "metadata": {},
   "outputs": [],
   "source": []
  },
  {
   "cell_type": "code",
   "execution_count": null,
   "metadata": {},
   "outputs": [],
   "source": [
    "processing.algorithmHelp(\"qgis:aggregate\")"
   ]
  },
  {
   "cell_type": "code",
   "execution_count": null,
   "metadata": {},
   "outputs": [],
   "source": [
    "params = { \n",
    "    'INPUT' : res['OUTPUT'],\n",
    "    'GROUP_BY' : 'NAME', \n",
    "    'AGGREGATES':[\n",
    "            {'aggregate': 'first_value', 'delimiter': ',', 'input': '\"NAME\"', 'length': 0, 'name': 'NAME', 'precision': 0, 'type': 10}, \n",
    "            {'aggregate': 'sum', 'delimiter': ',', 'input': '\"confirmed_4/15/20\"', 'length': 0, 'name': 'confirmed_4/15/20', 'precision': 0, 'type': 2},],\n",
    "    'OUTPUT' : 'memory:'\n",
    "}"
   ]
  },
  {
   "cell_type": "code",
   "execution_count": null,
   "metadata": {},
   "outputs": [],
   "source": [
    "feedback = QgsProcessingFeedback()\n",
    "\n",
    "res = processing.run('qgis:aggregate', params,feedback=feedback)"
   ]
  },
  {
   "cell_type": "code",
   "execution_count": null,
   "metadata": {},
   "outputs": [],
   "source": [
    "\n",
    "\n",
    "from qgis.PyQt import QtGui\n",
    "\n",
    "\n",
    "myTargetField = r'4/15/20'\n",
    "myRangeList = []\n",
    "myOpacity = 1\n",
    "# Make our first symbol and range...\n",
    "myMin = 0.0\n",
    "myMax = 10000\n",
    "myLabel = 'Group 1'\n",
    "myColour = QtGui.QColor('#ffeeff')\n",
    "mySymbol1 = QgsSymbol.defaultSymbol(res['OUTPUT'].geometryType())\n",
    "mySymbol1.setColor(myColour)\n",
    "mySymbol1.setOpacity(myOpacity)\n",
    "myRange1 = QgsRendererRange(myMin, myMax, mySymbol1, myLabel)\n",
    "myRangeList.append(myRange1)\n",
    "#now make another symbol and range...\n",
    "myMin = 10000.1\n",
    "myMax = 20000\n",
    "myLabel = 'Group 2'\n",
    "myColour = QtGui.QColor('#00eeff')\n",
    "mySymbol2 = QgsSymbol.defaultSymbol(\n",
    "     res['OUTPUT'].geometryType())\n",
    "\n",
    "mySymbol2.setColor(myColour)\n",
    "mySymbol2.setOpacity(myOpacity)\n",
    "myRange2 = QgsRendererRange(myMin, myMax, mySymbol2, myLabel)\n",
    "myRangeList.append(myRange2)\n",
    "myRenderer = QgsGraduatedSymbolRenderer('', myRangeList)\n",
    "myClassificationMethod = QgsApplication.classificationMethodRegistry().method(\"EqualInterval\")\n",
    "myRenderer.setClassificationMethod(myClassificationMethod)\n",
    "myRenderer.setClassAttribute(myTargetField)\n",
    "\n",
    "res['OUTPUT'].setRenderer(myRenderer)"
   ]
  },
  {
   "cell_type": "code",
   "execution_count": null,
   "metadata": {},
   "outputs": [],
   "source": []
  },
  {
   "cell_type": "code",
   "execution_count": null,
   "metadata": {},
   "outputs": [],
   "source": []
  },
  {
   "cell_type": "code",
   "execution_count": null,
   "metadata": {},
   "outputs": [],
   "source": []
  }
 ],
 "metadata": {
  "kernelspec": {
   "display_name": "Python 3",
   "language": "python",
   "name": "python3"
  },
  "language_info": {
   "codemirror_mode": {
    "name": "ipython",
    "version": 3
   },
   "file_extension": ".py",
   "mimetype": "text/x-python",
   "name": "python",
   "nbconvert_exporter": "python",
   "pygments_lexer": "ipython3",
   "version": "3.7.0"
  }
 },
 "nbformat": 4,
 "nbformat_minor": 2
}
